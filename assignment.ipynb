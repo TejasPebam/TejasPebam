{
 "cells": [
  {
   "cell_type": "code",
   "execution_count": 6,
   "id": "efa6234b-d60f-45f4-b632-58b570f82840",
   "metadata": {},
   "outputs": [
    {
     "name": "stdin",
     "output_type": "stream",
     "text": [
      "enter a number 10\n",
      "enter a number 3\n"
     ]
    },
    {
     "name": "stdout",
     "output_type": "stream",
     "text": [
      "adding: 13\n",
      "substraction: 7\n",
      "division: 3.3333333333333335\n",
      "modulas: 1\n",
      "multiplication: 30\n",
      "exponential: 1000\n",
      "floor: 3\n"
     ]
    }
   ],
   "source": [
    "a=int(input('enter a number'))#take first no. from user to convert into integer\n",
    "b=int(input('enter a number'))\n",
    "adding=a+b\n",
    "print('adding:',adding)#print the result of operation\n",
    "substraction=a-b\n",
    "print('substraction:',substraction)\n",
    "division=a/b\n",
    "print('division:',division)\n",
    "modulas=a%b\n",
    "print('modulas:',modulas)\n",
    "multiplication=a*b\n",
    "print('multiplication:',multiplication)\n",
    "exponential=a**b\n",
    "print('exponential:',exponential)\n",
    "floor=a//b\n",
    "print('floor:',floor)\n"
   ]
  },
  {
   "cell_type": "code",
   "execution_count": 8,
   "id": "313b941d-2675-44d8-adb0-52dd47f94ae1",
   "metadata": {},
   "outputs": [
    {
     "name": "stdin",
     "output_type": "stream",
     "text": [
      "Enter first number 10\n",
      "enter second number 3\n"
     ]
    },
    {
     "name": "stdout",
     "output_type": "stream",
     "text": [
      "first number is greater than second number\n"
     ]
    }
   ],
   "source": [
    "a=int(input('Enter first number'))#taking input from user to convert into integer\n",
    "b=int(input('enter second number'))\n",
    "if a>b:#if first is greater than second, it will execute\n",
    "    print('first number is greater than second number')\n",
    "elif a==b:\n",
    "    print('first number is equal to second number')\n",
    "elif a<=b:\n",
    "    print('first number is smaller than or equal to second number')\n",
    "            "
   ]
  },
  {
   "cell_type": "code",
   "execution_count": 8,
   "id": "19175b10-52ca-4374-824f-168c9fab42e4",
   "metadata": {},
   "outputs": [
    {
     "name": "stdin",
     "output_type": "stream",
     "text": [
      "enter first boolean(True/False): true\n",
      "enter second boolean(true/false): false\n",
      "enter third boolean(true/false): true\n"
     ]
    },
    {
     "name": "stdout",
     "output_type": "stream",
     "text": [
      "True\n",
      "True\n",
      "False\n"
     ]
    }
   ],
   "source": [
    "a=bool(input(\"enter first boolean(True/False):\"))\n",
    "b=bool(input(\"enter second boolean(true/false):\"))\n",
    "c=bool(input(\"enter third boolean(true/false):\"))\n",
    "print(a and b and c)\n",
    "print(a or b or c)\n",
    "print(not c)"
   ]
  },
  {
   "cell_type": "code",
   "execution_count": 20,
   "id": "60cb9029-6ca9-493c-805e-a8a0afa3f5da",
   "metadata": {},
   "outputs": [
    {
     "name": "stdin",
     "output_type": "stream",
     "text": [
      "enter a word: key\n"
     ]
    },
    {
     "name": "stdout",
     "output_type": "stream",
     "text": [
      "key\n",
      "3\n",
      "k\n",
      "y\n",
      "yek\n",
      "KEY\n",
      "key\n"
     ]
    }
   ],
   "source": [
    "a=input('enter a word:')#find the length of input word \n",
    "b=len(a)#return the no. of characters in word\n",
    "c=a[0]#access the first character\n",
    "d=a[-1]#access last character\n",
    "e=a[::-1]#reversing the input word\n",
    "f=a.upper()#input to uppercase\n",
    "g=a.lower()#input to lowercase\n",
    "print(a)\n",
    "print(b)\n",
    "print(c)\n",
    "print(d)\n",
    "print(e)\n",
    "print(f)\n",
    "print(g)"
   ]
  },
  {
   "cell_type": "code",
   "execution_count": 18,
   "id": "4a2483e9-4baa-41c8-aec5-dc20e06bc9e5",
   "metadata": {},
   "outputs": [
    {
     "name": "stdin",
     "output_type": "stream",
     "text": [
      "enter a name: Tejas\n",
      "enter the age: 18\n"
     ]
    },
    {
     "name": "stdout",
     "output_type": "stream",
     "text": [
      "Hello Tejas you are 18 years old\n"
     ]
    }
   ],
   "source": [
    "Name=input('enter a name:')#to take input from user\n",
    "Age=int(input('enter the age:'))\n",
    "print('Hello',Name,'you are',Age,'years old')"
   ]
  },
  {
   "cell_type": "code",
   "execution_count": 37,
   "id": "bab73a39-6ab0-4901-a948-915020239d58",
   "metadata": {},
   "outputs": [
    {
     "name": "stdin",
     "output_type": "stream",
     "text": [
      "enter a number: 10\n",
      "enter a number: 12\n",
      "enter a number: 13\n",
      "enter a number: 15\n",
      "enter a number: 56\n"
     ]
    },
    {
     "name": "stdout",
     "output_type": "stream",
     "text": [
      "[10, 12, 13, 15, 56]\n",
      "106\n",
      "56\n",
      "10\n"
     ]
    }
   ],
   "source": [
    "a=[]3empty list initialization\n",
    "for i in range(1,6):#loop 5 times\n",
    "     b=int(input('enter a number:'))\n",
    "     a.append(b)#add a \n",
    "c=sum(a)\n",
    "d=max(a)\n",
    "e=min(a)\n",
    "print(a)\n",
    "print(c)\n",
    "print(d)\n",
    "print(e)"
   ]
  },
  {
   "cell_type": "code",
   "execution_count": 4,
   "id": "b3688a82-6bed-4484-b752-e8710785ec81",
   "metadata": {},
   "outputs": [
    {
     "name": "stdout",
     "output_type": "stream",
     "text": [
      "['mango', 'pineapple', 'orange', 'lemon', 'kiwi']\n"
     ]
    }
   ],
   "source": [
    "fruits=['mango','custardapple','pineapple','orange','lemon']#list of 5 fruits\n",
    "fruits+=['kiwi']#add 1 fruits\n",
    "fruits.remove(fruits[1])#remove 2nd fruit\n",
    "print(fruits)"
   ]
  },
  {
   "cell_type": "code",
   "execution_count": 43,
   "id": "2f89d770-d7ea-47e0-936f-db0228569db5",
   "metadata": {},
   "outputs": [
    {
     "name": "stdin",
     "output_type": "stream",
     "text": [
      "enter the list1 4\n",
      "enter the list2 5\n",
      "enter the list3 6\n",
      "enter the list4 6\n",
      "enter the list5 0\n"
     ]
    },
    {
     "name": "stdout",
     "output_type": "stream",
     "text": [
      "['6', '6', '5', '4', '0']\n"
     ]
    }
   ],
   "source": [
    "a=[]\n",
    "for i in range(5):#using a for loop to take 5 inputs from user\n",
    "    b=input(f\"enter the list{i+1}\")#appending it to list a\n",
    "    a.append(b)\n",
    "a.sort()#list in assending\n",
    "a.reverse()#list in descending\n",
    "print(a)"
   ]
  },
  {
   "cell_type": "code",
   "execution_count": 45,
   "id": "ffca25af-5bef-4923-b529-ec528ed0e8e9",
   "metadata": {},
   "outputs": [
    {
     "name": "stdout",
     "output_type": "stream",
     "text": [
      "[1, 2, 3, 4, 5]\n",
      "[6, 7, 8, 9, 10]\n",
      "[3, 4, 5, 6, 7, 8]\n"
     ]
    }
   ],
   "source": [
    "nos=[1,2,3,4,5,6,7,8,9,10]\n",
    "print(nos[:5])#slicing first 5 elements\n",
    "print(nos[5:])#slicing elements from 5 to end of list\n",
    "print(nos[2:8])#slicing the elements from index 2 to 7"
   ]
  },
  {
   "cell_type": "code",
   "execution_count": 16,
   "id": "d90badc4-0bc9-4567-ac17-4370e3c35ec6",
   "metadata": {},
   "outputs": [
    {
     "name": "stdin",
     "output_type": "stream",
     "text": [
      "enter students name: akash\n",
      "enter mark for akash's subject1: 45\n",
      "enter mark for akash's subject2: 67\n",
      "enter mark for akash's subject3: 89\n",
      "enter students name: reddy\n",
      "enter mark for reddy's subject1: 89\n",
      "enter mark for reddy's subject2: 90\n",
      "enter mark for reddy's subject3: 78\n",
      "enter students name: lokeash\n",
      "enter mark for lokeash's subject1: 13\n",
      "enter mark for lokeash's subject2: 12\n",
      "enter mark for lokeash's subject3: 4\n"
     ]
    },
    {
     "name": "stdout",
     "output_type": "stream",
     "text": [
      "akash's average score is:67.0\n",
      "reddy's average score is:85.66666666666667\n",
      "lokeash's average score is:9.666666666666666\n"
     ]
    }
   ],
   "source": [
    "a=[]\n",
    "for i in range(3):#loop input 3 times\n",
    "    b=input(\"enter students name:\")#enter student name\n",
    "    c=[]#nested list\n",
    "    for j in range(3):#loop the input 3 times\n",
    "        d=float(input(f\"enter mark for {b}'s subject{j+1}:\"))#3 times looped\n",
    "        c.append(d)\n",
    "    a.append([b,c])\n",
    "for i in a:\n",
    "    average=sum(i[1])/len(i[1])#takes average of 3 students with their 3 sub\n",
    "    print(f\"{i[0]}'s average score is:{average}\")"
   ]
  },
  {
   "cell_type": "code",
   "execution_count": 10,
   "id": "2baff2af-f8a0-4a6b-9659-e0e2b5d7a7e6",
   "metadata": {},
   "outputs": [
    {
     "name": "stdin",
     "output_type": "stream",
     "text": [
      "enter a sentence: name one song which you like\n",
      "enter a word to search: song\n"
     ]
    },
    {
     "name": "stdout",
     "output_type": "stream",
     "text": [
      "9\n"
     ]
    }
   ],
   "source": [
    "sentence=input(\"enter a sentence:\")#enter a sentence\n",
    "word=input(\"enter a word to search:\")#word they want to search in sentence\n",
    "if word in sentence:\n",
    "    print(sentence.index(word))\n",
    "else:\n",
    "    print(\"word not found\")"
   ]
  },
  {
   "cell_type": "code",
   "execution_count": null,
   "id": "f47415b8-91ab-439a-8808-517ec3ce6ed8",
   "metadata": {},
   "outputs": [],
   "source": []
  }
 ],
 "metadata": {
  "kernelspec": {
   "display_name": "Python 3 (ipykernel)",
   "language": "python",
   "name": "python3"
  },
  "language_info": {
   "codemirror_mode": {
    "name": "ipython",
    "version": 3
   },
   "file_extension": ".py",
   "mimetype": "text/x-python",
   "name": "python",
   "nbconvert_exporter": "python",
   "pygments_lexer": "ipython3",
   "version": "3.12.4"
  }
 },
 "nbformat": 4,
 "nbformat_minor": 5
}
